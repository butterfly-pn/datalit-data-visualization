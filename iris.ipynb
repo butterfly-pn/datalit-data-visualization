{
  "nbformat": 4,
  "nbformat_minor": 0,
  "metadata": {
    "colab": {
      "name": "iris.ipynb",
      "version": "0.3.2",
      "provenance": [],
      "include_colab_link": true
    },
    "kernelspec": {
      "name": "python3",
      "display_name": "Python 3"
    }
  },
  "cells": [
    {
      "cell_type": "markdown",
      "metadata": {
        "id": "view-in-github",
        "colab_type": "text"
      },
      "source": [
        "<a href=\"https://colab.research.google.com/github/butterfly-pn/datalit-data-visualization/blob/master/iris.ipynb\" target=\"_parent\"><img src=\"https://colab.research.google.com/assets/colab-badge.svg\" alt=\"Open In Colab\"/></a>"
      ]
    },
    {
      "metadata": {
        "id": "tKqn28O_9LQU",
        "colab_type": "text"
      },
      "cell_type": "markdown",
      "source": [
        "# Iris\n",
        "\n",
        "Which properties are needed to predict species? + data visualization\n",
        "\n",
        "<br>\n",
        "Iris dataset is 4-dimensional:  the length and the width of the sepals and petals. This dataset is hard to visualize as it is. Let's start some processing."
      ]
    },
    {
      "metadata": {
        "id": "YbaWMCo987SL",
        "colab_type": "code",
        "colab": {
          "base_uri": "https://localhost:8080/",
          "height": 359
        },
        "outputId": "49deb0f7-9e02-4d09-c4f0-ff0bbf5ee201"
      },
      "cell_type": "code",
      "source": [
        "import pandas as pd\n",
        "\n",
        "iris = pd.read_csv('https://archive.ics.uci.edu/ml/machine-learning-databases/iris/iris.data', header=None)\n",
        "iris.sample(10)"
      ],
      "execution_count": 70,
      "outputs": [
        {
          "output_type": "execute_result",
          "data": {
            "text/html": [
              "<div>\n",
              "<style scoped>\n",
              "    .dataframe tbody tr th:only-of-type {\n",
              "        vertical-align: middle;\n",
              "    }\n",
              "\n",
              "    .dataframe tbody tr th {\n",
              "        vertical-align: top;\n",
              "    }\n",
              "\n",
              "    .dataframe thead th {\n",
              "        text-align: right;\n",
              "    }\n",
              "</style>\n",
              "<table border=\"1\" class=\"dataframe\">\n",
              "  <thead>\n",
              "    <tr style=\"text-align: right;\">\n",
              "      <th></th>\n",
              "      <th>0</th>\n",
              "      <th>1</th>\n",
              "      <th>2</th>\n",
              "      <th>3</th>\n",
              "      <th>4</th>\n",
              "    </tr>\n",
              "  </thead>\n",
              "  <tbody>\n",
              "    <tr>\n",
              "      <th>137</th>\n",
              "      <td>6.4</td>\n",
              "      <td>3.1</td>\n",
              "      <td>5.5</td>\n",
              "      <td>1.8</td>\n",
              "      <td>Iris-virginica</td>\n",
              "    </tr>\n",
              "    <tr>\n",
              "      <th>35</th>\n",
              "      <td>5.0</td>\n",
              "      <td>3.2</td>\n",
              "      <td>1.2</td>\n",
              "      <td>0.2</td>\n",
              "      <td>Iris-setosa</td>\n",
              "    </tr>\n",
              "    <tr>\n",
              "      <th>117</th>\n",
              "      <td>7.7</td>\n",
              "      <td>3.8</td>\n",
              "      <td>6.7</td>\n",
              "      <td>2.2</td>\n",
              "      <td>Iris-virginica</td>\n",
              "    </tr>\n",
              "    <tr>\n",
              "      <th>128</th>\n",
              "      <td>6.4</td>\n",
              "      <td>2.8</td>\n",
              "      <td>5.6</td>\n",
              "      <td>2.1</td>\n",
              "      <td>Iris-virginica</td>\n",
              "    </tr>\n",
              "    <tr>\n",
              "      <th>99</th>\n",
              "      <td>5.7</td>\n",
              "      <td>2.8</td>\n",
              "      <td>4.1</td>\n",
              "      <td>1.3</td>\n",
              "      <td>Iris-versicolor</td>\n",
              "    </tr>\n",
              "    <tr>\n",
              "      <th>124</th>\n",
              "      <td>6.7</td>\n",
              "      <td>3.3</td>\n",
              "      <td>5.7</td>\n",
              "      <td>2.1</td>\n",
              "      <td>Iris-virginica</td>\n",
              "    </tr>\n",
              "    <tr>\n",
              "      <th>87</th>\n",
              "      <td>6.3</td>\n",
              "      <td>2.3</td>\n",
              "      <td>4.4</td>\n",
              "      <td>1.3</td>\n",
              "      <td>Iris-versicolor</td>\n",
              "    </tr>\n",
              "    <tr>\n",
              "      <th>146</th>\n",
              "      <td>6.3</td>\n",
              "      <td>2.5</td>\n",
              "      <td>5.0</td>\n",
              "      <td>1.9</td>\n",
              "      <td>Iris-virginica</td>\n",
              "    </tr>\n",
              "    <tr>\n",
              "      <th>66</th>\n",
              "      <td>5.6</td>\n",
              "      <td>3.0</td>\n",
              "      <td>4.5</td>\n",
              "      <td>1.5</td>\n",
              "      <td>Iris-versicolor</td>\n",
              "    </tr>\n",
              "    <tr>\n",
              "      <th>14</th>\n",
              "      <td>5.8</td>\n",
              "      <td>4.0</td>\n",
              "      <td>1.2</td>\n",
              "      <td>0.2</td>\n",
              "      <td>Iris-setosa</td>\n",
              "    </tr>\n",
              "  </tbody>\n",
              "</table>\n",
              "</div>"
            ],
            "text/plain": [
              "       0    1    2    3                4\n",
              "137  6.4  3.1  5.5  1.8   Iris-virginica\n",
              "35   5.0  3.2  1.2  0.2      Iris-setosa\n",
              "117  7.7  3.8  6.7  2.2   Iris-virginica\n",
              "128  6.4  2.8  5.6  2.1   Iris-virginica\n",
              "99   5.7  2.8  4.1  1.3  Iris-versicolor\n",
              "124  6.7  3.3  5.7  2.1   Iris-virginica\n",
              "87   6.3  2.3  4.4  1.3  Iris-versicolor\n",
              "146  6.3  2.5  5.0  1.9   Iris-virginica\n",
              "66   5.6  3.0  4.5  1.5  Iris-versicolor\n",
              "14   5.8  4.0  1.2  0.2      Iris-setosa"
            ]
          },
          "metadata": {
            "tags": []
          },
          "execution_count": 70
        }
      ]
    },
    {
      "metadata": {
        "id": "MvFPfvGB_SF6",
        "colab_type": "code",
        "colab": {
          "base_uri": "https://localhost:8080/",
          "height": 221
        },
        "outputId": "a8f2772a-dc00-4d6d-a01b-a16c002867e6"
      },
      "cell_type": "code",
      "source": [
        "label = iris.iloc[:, 4]\n",
        "data = iris.iloc[:, 0:4]\n",
        "print(label.head(5))\n",
        "print(data.head(5))"
      ],
      "execution_count": 71,
      "outputs": [
        {
          "output_type": "stream",
          "text": [
            "0    Iris-setosa\n",
            "1    Iris-setosa\n",
            "2    Iris-setosa\n",
            "3    Iris-setosa\n",
            "4    Iris-setosa\n",
            "Name: 4, dtype: object\n",
            "     0    1    2    3\n",
            "0  5.1  3.5  1.4  0.2\n",
            "1  4.9  3.0  1.4  0.2\n",
            "2  4.7  3.2  1.3  0.2\n",
            "3  4.6  3.1  1.5  0.2\n",
            "4  5.0  3.6  1.4  0.2\n"
          ],
          "name": "stdout"
        }
      ]
    },
    {
      "metadata": {
        "id": "HluHbQHYBdiR",
        "colab_type": "text"
      },
      "cell_type": "markdown",
      "source": [
        "## Data normalization"
      ]
    },
    {
      "metadata": {
        "id": "wbHLyZaKBgPV",
        "colab_type": "code",
        "colab": {
          "base_uri": "https://localhost:8080/",
          "height": 204
        },
        "outputId": "a448e712-405e-481e-cf92-0960dccc3888"
      },
      "cell_type": "code",
      "source": [
        "data = data.sub(data.mean(axis=0), axis=1)\n",
        "data.head(5)"
      ],
      "execution_count": 72,
      "outputs": [
        {
          "output_type": "execute_result",
          "data": {
            "text/html": [
              "<div>\n",
              "<style scoped>\n",
              "    .dataframe tbody tr th:only-of-type {\n",
              "        vertical-align: middle;\n",
              "    }\n",
              "\n",
              "    .dataframe tbody tr th {\n",
              "        vertical-align: top;\n",
              "    }\n",
              "\n",
              "    .dataframe thead th {\n",
              "        text-align: right;\n",
              "    }\n",
              "</style>\n",
              "<table border=\"1\" class=\"dataframe\">\n",
              "  <thead>\n",
              "    <tr style=\"text-align: right;\">\n",
              "      <th></th>\n",
              "      <th>0</th>\n",
              "      <th>1</th>\n",
              "      <th>2</th>\n",
              "      <th>3</th>\n",
              "    </tr>\n",
              "  </thead>\n",
              "  <tbody>\n",
              "    <tr>\n",
              "      <th>0</th>\n",
              "      <td>-0.743333</td>\n",
              "      <td>0.446</td>\n",
              "      <td>-2.358667</td>\n",
              "      <td>-0.998667</td>\n",
              "    </tr>\n",
              "    <tr>\n",
              "      <th>1</th>\n",
              "      <td>-0.943333</td>\n",
              "      <td>-0.054</td>\n",
              "      <td>-2.358667</td>\n",
              "      <td>-0.998667</td>\n",
              "    </tr>\n",
              "    <tr>\n",
              "      <th>2</th>\n",
              "      <td>-1.143333</td>\n",
              "      <td>0.146</td>\n",
              "      <td>-2.458667</td>\n",
              "      <td>-0.998667</td>\n",
              "    </tr>\n",
              "    <tr>\n",
              "      <th>3</th>\n",
              "      <td>-1.243333</td>\n",
              "      <td>0.046</td>\n",
              "      <td>-2.258667</td>\n",
              "      <td>-0.998667</td>\n",
              "    </tr>\n",
              "    <tr>\n",
              "      <th>4</th>\n",
              "      <td>-0.843333</td>\n",
              "      <td>0.546</td>\n",
              "      <td>-2.358667</td>\n",
              "      <td>-0.998667</td>\n",
              "    </tr>\n",
              "  </tbody>\n",
              "</table>\n",
              "</div>"
            ],
            "text/plain": [
              "          0      1         2         3\n",
              "0 -0.743333  0.446 -2.358667 -0.998667\n",
              "1 -0.943333 -0.054 -2.358667 -0.998667\n",
              "2 -1.143333  0.146 -2.458667 -0.998667\n",
              "3 -1.243333  0.046 -2.258667 -0.998667\n",
              "4 -0.843333  0.546 -2.358667 -0.998667"
            ]
          },
          "metadata": {
            "tags": []
          },
          "execution_count": 72
        }
      ]
    },
    {
      "metadata": {
        "id": "9ANSH9uIDtMZ",
        "colab_type": "text"
      },
      "cell_type": "markdown",
      "source": [
        "## Eigen decomposition"
      ]
    },
    {
      "metadata": {
        "id": "jFhoj4q1Dr3s",
        "colab_type": "code",
        "colab": {
          "base_uri": "https://localhost:8080/",
          "height": 34
        },
        "outputId": "3f3c87f1-5362-4fc4-bc10-86eb840f6697"
      },
      "cell_type": "code",
      "source": [
        "import numpy as np\n",
        "\n",
        "data_matrix = np.asmatrix(data)\n",
        "sigma = np.cov(data_matrix.T)\n",
        "\n",
        "eigen_values, eigen_vector = np.linalg.eig(sigma)\n",
        "print(eigen_values)"
      ],
      "execution_count": 73,
      "outputs": [
        {
          "output_type": "stream",
          "text": [
            "[4.22484077 0.24224357 0.07852391 0.02368303]\n"
          ],
          "name": "stdout"
        }
      ]
    },
    {
      "metadata": {
        "id": "maWXvKd8ENOt",
        "colab_type": "text"
      },
      "cell_type": "markdown",
      "source": [
        "We can see that column of id 2 and 3 have small eigen value. Let's try visualizing data without them."
      ]
    },
    {
      "metadata": {
        "id": "o57u3rTfEnu7",
        "colab_type": "code",
        "colab": {}
      },
      "cell_type": "code",
      "source": [
        "new_data = data_matrix.dot(eigen_vector)\n",
        "new_data = new_data[:, :2]\n",
        "new_data = pd.DataFrame(new_data)"
      ],
      "execution_count": 0,
      "outputs": []
    },
    {
      "metadata": {
        "id": "9kssVX7REtQt",
        "colab_type": "code",
        "colab": {
          "base_uri": "https://localhost:8080/",
          "height": 647
        },
        "outputId": "2968b49c-40c7-487c-bbb1-01b07528b2d8"
      },
      "cell_type": "code",
      "source": [
        "from bokeh.plotting import figure, show, output_file\n",
        "from bokeh.io import output_notebook\n",
        "output_notebook()\n",
        "\n",
        "colormap = {'Iris-setosa': '#e41a1c', 'Iris-versicolor': '#377eb8', 'Iris-virginica': '#4daf4a'}\n",
        "colors = [colormap[x] for x in label]\n",
        "\n",
        "p = figure(title = \"Iris\")\n",
        "\n",
        "p.circle(new_data[0], new_data[1], \n",
        "         color=colors, fill_alpha=0.2, size=10)\n",
        "\n",
        "show(p)"
      ],
      "execution_count": 77,
      "outputs": [
        {
          "output_type": "display_data",
          "data": {
            "text/html": [
              "\n",
              "    <div class=\"bk-root\">\n",
              "        <a href=\"https://bokeh.pydata.org\" target=\"_blank\" class=\"bk-logo bk-logo-small bk-logo-notebook\"></a>\n",
              "        <span id=\"2734\">Loading BokehJS ...</span>\n",
              "    </div>"
            ]
          },
          "metadata": {
            "tags": []
          }
        },
        {
          "output_type": "display_data",
          "data": {
            "application/javascript": [
              "\n",
              "(function(root) {\n",
              "  function now() {\n",
              "    return new Date();\n",
              "  }\n",
              "\n",
              "  var force = true;\n",
              "\n",
              "  if (typeof (root._bokeh_onload_callbacks) === \"undefined\" || force === true) {\n",
              "    root._bokeh_onload_callbacks = [];\n",
              "    root._bokeh_is_loading = undefined;\n",
              "  }\n",
              "\n",
              "  var JS_MIME_TYPE = 'application/javascript';\n",
              "  var HTML_MIME_TYPE = 'text/html';\n",
              "  var EXEC_MIME_TYPE = 'application/vnd.bokehjs_exec.v0+json';\n",
              "  var CLASS_NAME = 'output_bokeh rendered_html';\n",
              "\n",
              "  /**\n",
              "   * Render data to the DOM node\n",
              "   */\n",
              "  function render(props, node) {\n",
              "    var script = document.createElement(\"script\");\n",
              "    node.appendChild(script);\n",
              "  }\n",
              "\n",
              "  /**\n",
              "   * Handle when an output is cleared or removed\n",
              "   */\n",
              "  function handleClearOutput(event, handle) {\n",
              "    var cell = handle.cell;\n",
              "\n",
              "    var id = cell.output_area._bokeh_element_id;\n",
              "    var server_id = cell.output_area._bokeh_server_id;\n",
              "    // Clean up Bokeh references\n",
              "    if (id != null && id in Bokeh.index) {\n",
              "      Bokeh.index[id].model.document.clear();\n",
              "      delete Bokeh.index[id];\n",
              "    }\n",
              "\n",
              "    if (server_id !== undefined) {\n",
              "      // Clean up Bokeh references\n",
              "      var cmd = \"from bokeh.io.state import curstate; print(curstate().uuid_to_server['\" + server_id + \"'].get_sessions()[0].document.roots[0]._id)\";\n",
              "      cell.notebook.kernel.execute(cmd, {\n",
              "        iopub: {\n",
              "          output: function(msg) {\n",
              "            var id = msg.content.text.trim();\n",
              "            if (id in Bokeh.index) {\n",
              "              Bokeh.index[id].model.document.clear();\n",
              "              delete Bokeh.index[id];\n",
              "            }\n",
              "          }\n",
              "        }\n",
              "      });\n",
              "      // Destroy server and session\n",
              "      var cmd = \"import bokeh.io.notebook as ion; ion.destroy_server('\" + server_id + \"')\";\n",
              "      cell.notebook.kernel.execute(cmd);\n",
              "    }\n",
              "  }\n",
              "\n",
              "  /**\n",
              "   * Handle when a new output is added\n",
              "   */\n",
              "  function handleAddOutput(event, handle) {\n",
              "    var output_area = handle.output_area;\n",
              "    var output = handle.output;\n",
              "\n",
              "    // limit handleAddOutput to display_data with EXEC_MIME_TYPE content only\n",
              "    if ((output.output_type != \"display_data\") || (!output.data.hasOwnProperty(EXEC_MIME_TYPE))) {\n",
              "      return\n",
              "    }\n",
              "\n",
              "    var toinsert = output_area.element.find(\".\" + CLASS_NAME.split(' ')[0]);\n",
              "\n",
              "    if (output.metadata[EXEC_MIME_TYPE][\"id\"] !== undefined) {\n",
              "      toinsert[toinsert.length - 1].firstChild.textContent = output.data[JS_MIME_TYPE];\n",
              "      // store reference to embed id on output_area\n",
              "      output_area._bokeh_element_id = output.metadata[EXEC_MIME_TYPE][\"id\"];\n",
              "    }\n",
              "    if (output.metadata[EXEC_MIME_TYPE][\"server_id\"] !== undefined) {\n",
              "      var bk_div = document.createElement(\"div\");\n",
              "      bk_div.innerHTML = output.data[HTML_MIME_TYPE];\n",
              "      var script_attrs = bk_div.children[0].attributes;\n",
              "      for (var i = 0; i < script_attrs.length; i++) {\n",
              "        toinsert[toinsert.length - 1].firstChild.setAttribute(script_attrs[i].name, script_attrs[i].value);\n",
              "      }\n",
              "      // store reference to server id on output_area\n",
              "      output_area._bokeh_server_id = output.metadata[EXEC_MIME_TYPE][\"server_id\"];\n",
              "    }\n",
              "  }\n",
              "\n",
              "  function register_renderer(events, OutputArea) {\n",
              "\n",
              "    function append_mime(data, metadata, element) {\n",
              "      // create a DOM node to render to\n",
              "      var toinsert = this.create_output_subarea(\n",
              "        metadata,\n",
              "        CLASS_NAME,\n",
              "        EXEC_MIME_TYPE\n",
              "      );\n",
              "      this.keyboard_manager.register_events(toinsert);\n",
              "      // Render to node\n",
              "      var props = {data: data, metadata: metadata[EXEC_MIME_TYPE]};\n",
              "      render(props, toinsert[toinsert.length - 1]);\n",
              "      element.append(toinsert);\n",
              "      return toinsert\n",
              "    }\n",
              "\n",
              "    /* Handle when an output is cleared or removed */\n",
              "    events.on('clear_output.CodeCell', handleClearOutput);\n",
              "    events.on('delete.Cell', handleClearOutput);\n",
              "\n",
              "    /* Handle when a new output is added */\n",
              "    events.on('output_added.OutputArea', handleAddOutput);\n",
              "\n",
              "    /**\n",
              "     * Register the mime type and append_mime function with output_area\n",
              "     */\n",
              "    OutputArea.prototype.register_mime_type(EXEC_MIME_TYPE, append_mime, {\n",
              "      /* Is output safe? */\n",
              "      safe: true,\n",
              "      /* Index of renderer in `output_area.display_order` */\n",
              "      index: 0\n",
              "    });\n",
              "  }\n",
              "\n",
              "  // register the mime type if in Jupyter Notebook environment and previously unregistered\n",
              "  if (root.Jupyter !== undefined) {\n",
              "    var events = require('base/js/events');\n",
              "    var OutputArea = require('notebook/js/outputarea').OutputArea;\n",
              "\n",
              "    if (OutputArea.prototype.mime_types().indexOf(EXEC_MIME_TYPE) == -1) {\n",
              "      register_renderer(events, OutputArea);\n",
              "    }\n",
              "  }\n",
              "\n",
              "  \n",
              "  if (typeof (root._bokeh_timeout) === \"undefined\" || force === true) {\n",
              "    root._bokeh_timeout = Date.now() + 5000;\n",
              "    root._bokeh_failed_load = false;\n",
              "  }\n",
              "\n",
              "  var NB_LOAD_WARNING = {'data': {'text/html':\n",
              "     \"<div style='background-color: #fdd'>\\n\"+\n",
              "     \"<p>\\n\"+\n",
              "     \"BokehJS does not appear to have successfully loaded. If loading BokehJS from CDN, this \\n\"+\n",
              "     \"may be due to a slow or bad network connection. Possible fixes:\\n\"+\n",
              "     \"</p>\\n\"+\n",
              "     \"<ul>\\n\"+\n",
              "     \"<li>re-rerun `output_notebook()` to attempt to load from CDN again, or</li>\\n\"+\n",
              "     \"<li>use INLINE resources instead, as so:</li>\\n\"+\n",
              "     \"</ul>\\n\"+\n",
              "     \"<code>\\n\"+\n",
              "     \"from bokeh.resources import INLINE\\n\"+\n",
              "     \"output_notebook(resources=INLINE)\\n\"+\n",
              "     \"</code>\\n\"+\n",
              "     \"</div>\"}};\n",
              "\n",
              "  function display_loaded() {\n",
              "    var el = document.getElementById(\"2734\");\n",
              "    if (el != null) {\n",
              "      el.textContent = \"BokehJS is loading...\";\n",
              "    }\n",
              "    if (root.Bokeh !== undefined) {\n",
              "      if (el != null) {\n",
              "        el.textContent = \"BokehJS \" + root.Bokeh.version + \" successfully loaded.\";\n",
              "      }\n",
              "    } else if (Date.now() < root._bokeh_timeout) {\n",
              "      setTimeout(display_loaded, 100)\n",
              "    }\n",
              "  }\n",
              "\n",
              "\n",
              "  function run_callbacks() {\n",
              "    try {\n",
              "      root._bokeh_onload_callbacks.forEach(function(callback) { callback() });\n",
              "    }\n",
              "    finally {\n",
              "      delete root._bokeh_onload_callbacks\n",
              "    }\n",
              "    console.info(\"Bokeh: all callbacks have finished\");\n",
              "  }\n",
              "\n",
              "  function load_libs(js_urls, callback) {\n",
              "    root._bokeh_onload_callbacks.push(callback);\n",
              "    if (root._bokeh_is_loading > 0) {\n",
              "      console.log(\"Bokeh: BokehJS is being loaded, scheduling callback at\", now());\n",
              "      return null;\n",
              "    }\n",
              "    if (js_urls == null || js_urls.length === 0) {\n",
              "      run_callbacks();\n",
              "      return null;\n",
              "    }\n",
              "    console.log(\"Bokeh: BokehJS not loaded, scheduling load and callback at\", now());\n",
              "    root._bokeh_is_loading = js_urls.length;\n",
              "    for (var i = 0; i < js_urls.length; i++) {\n",
              "      var url = js_urls[i];\n",
              "      var s = document.createElement('script');\n",
              "      s.src = url;\n",
              "      s.async = false;\n",
              "      s.onreadystatechange = s.onload = function() {\n",
              "        root._bokeh_is_loading--;\n",
              "        if (root._bokeh_is_loading === 0) {\n",
              "          console.log(\"Bokeh: all BokehJS libraries loaded\");\n",
              "          run_callbacks()\n",
              "        }\n",
              "      };\n",
              "      s.onerror = function() {\n",
              "        console.warn(\"failed to load library \" + url);\n",
              "      };\n",
              "      console.log(\"Bokeh: injecting script tag for BokehJS library: \", url);\n",
              "      document.getElementsByTagName(\"head\")[0].appendChild(s);\n",
              "    }\n",
              "  };var element = document.getElementById(\"2734\");\n",
              "  if (element == null) {\n",
              "    console.log(\"Bokeh: ERROR: autoload.js configured with elementid '2734' but no matching script tag was found. \")\n",
              "    return false;\n",
              "  }\n",
              "\n",
              "  var js_urls = [\"https://cdn.pydata.org/bokeh/release/bokeh-1.0.4.min.js\", \"https://cdn.pydata.org/bokeh/release/bokeh-widgets-1.0.4.min.js\", \"https://cdn.pydata.org/bokeh/release/bokeh-tables-1.0.4.min.js\", \"https://cdn.pydata.org/bokeh/release/bokeh-gl-1.0.4.min.js\"];\n",
              "\n",
              "  var inline_js = [\n",
              "    function(Bokeh) {\n",
              "      Bokeh.set_log_level(\"info\");\n",
              "    },\n",
              "    \n",
              "    function(Bokeh) {\n",
              "      \n",
              "    },\n",
              "    function(Bokeh) {\n",
              "      console.log(\"Bokeh: injecting CSS: https://cdn.pydata.org/bokeh/release/bokeh-1.0.4.min.css\");\n",
              "      Bokeh.embed.inject_css(\"https://cdn.pydata.org/bokeh/release/bokeh-1.0.4.min.css\");\n",
              "      console.log(\"Bokeh: injecting CSS: https://cdn.pydata.org/bokeh/release/bokeh-widgets-1.0.4.min.css\");\n",
              "      Bokeh.embed.inject_css(\"https://cdn.pydata.org/bokeh/release/bokeh-widgets-1.0.4.min.css\");\n",
              "      console.log(\"Bokeh: injecting CSS: https://cdn.pydata.org/bokeh/release/bokeh-tables-1.0.4.min.css\");\n",
              "      Bokeh.embed.inject_css(\"https://cdn.pydata.org/bokeh/release/bokeh-tables-1.0.4.min.css\");\n",
              "    }\n",
              "  ];\n",
              "\n",
              "  function run_inline_js() {\n",
              "    \n",
              "    if ((root.Bokeh !== undefined) || (force === true)) {\n",
              "      for (var i = 0; i < inline_js.length; i++) {\n",
              "        inline_js[i].call(root, root.Bokeh);\n",
              "      }if (force === true) {\n",
              "        display_loaded();\n",
              "      }} else if (Date.now() < root._bokeh_timeout) {\n",
              "      setTimeout(run_inline_js, 100);\n",
              "    } else if (!root._bokeh_failed_load) {\n",
              "      console.log(\"Bokeh: BokehJS failed to load within specified timeout.\");\n",
              "      root._bokeh_failed_load = true;\n",
              "    } else if (force !== true) {\n",
              "      var cell = $(document.getElementById(\"2734\")).parents('.cell').data().cell;\n",
              "      cell.output_area.append_execute_result(NB_LOAD_WARNING)\n",
              "    }\n",
              "\n",
              "  }\n",
              "\n",
              "  if (root._bokeh_is_loading === 0) {\n",
              "    console.log(\"Bokeh: BokehJS loaded, going straight to plotting\");\n",
              "    run_inline_js();\n",
              "  } else {\n",
              "    load_libs(js_urls, function() {\n",
              "      console.log(\"Bokeh: BokehJS plotting callback run at\", now());\n",
              "      run_inline_js();\n",
              "    });\n",
              "  }\n",
              "}(window));"
            ],
            "application/vnd.bokehjs_load.v0+json": "\n(function(root) {\n  function now() {\n    return new Date();\n  }\n\n  var force = true;\n\n  if (typeof (root._bokeh_onload_callbacks) === \"undefined\" || force === true) {\n    root._bokeh_onload_callbacks = [];\n    root._bokeh_is_loading = undefined;\n  }\n\n  \n\n  \n  if (typeof (root._bokeh_timeout) === \"undefined\" || force === true) {\n    root._bokeh_timeout = Date.now() + 5000;\n    root._bokeh_failed_load = false;\n  }\n\n  var NB_LOAD_WARNING = {'data': {'text/html':\n     \"<div style='background-color: #fdd'>\\n\"+\n     \"<p>\\n\"+\n     \"BokehJS does not appear to have successfully loaded. If loading BokehJS from CDN, this \\n\"+\n     \"may be due to a slow or bad network connection. Possible fixes:\\n\"+\n     \"</p>\\n\"+\n     \"<ul>\\n\"+\n     \"<li>re-rerun `output_notebook()` to attempt to load from CDN again, or</li>\\n\"+\n     \"<li>use INLINE resources instead, as so:</li>\\n\"+\n     \"</ul>\\n\"+\n     \"<code>\\n\"+\n     \"from bokeh.resources import INLINE\\n\"+\n     \"output_notebook(resources=INLINE)\\n\"+\n     \"</code>\\n\"+\n     \"</div>\"}};\n\n  function display_loaded() {\n    var el = document.getElementById(\"2734\");\n    if (el != null) {\n      el.textContent = \"BokehJS is loading...\";\n    }\n    if (root.Bokeh !== undefined) {\n      if (el != null) {\n        el.textContent = \"BokehJS \" + root.Bokeh.version + \" successfully loaded.\";\n      }\n    } else if (Date.now() < root._bokeh_timeout) {\n      setTimeout(display_loaded, 100)\n    }\n  }\n\n\n  function run_callbacks() {\n    try {\n      root._bokeh_onload_callbacks.forEach(function(callback) { callback() });\n    }\n    finally {\n      delete root._bokeh_onload_callbacks\n    }\n    console.info(\"Bokeh: all callbacks have finished\");\n  }\n\n  function load_libs(js_urls, callback) {\n    root._bokeh_onload_callbacks.push(callback);\n    if (root._bokeh_is_loading > 0) {\n      console.log(\"Bokeh: BokehJS is being loaded, scheduling callback at\", now());\n      return null;\n    }\n    if (js_urls == null || js_urls.length === 0) {\n      run_callbacks();\n      return null;\n    }\n    console.log(\"Bokeh: BokehJS not loaded, scheduling load and callback at\", now());\n    root._bokeh_is_loading = js_urls.length;\n    for (var i = 0; i < js_urls.length; i++) {\n      var url = js_urls[i];\n      var s = document.createElement('script');\n      s.src = url;\n      s.async = false;\n      s.onreadystatechange = s.onload = function() {\n        root._bokeh_is_loading--;\n        if (root._bokeh_is_loading === 0) {\n          console.log(\"Bokeh: all BokehJS libraries loaded\");\n          run_callbacks()\n        }\n      };\n      s.onerror = function() {\n        console.warn(\"failed to load library \" + url);\n      };\n      console.log(\"Bokeh: injecting script tag for BokehJS library: \", url);\n      document.getElementsByTagName(\"head\")[0].appendChild(s);\n    }\n  };var element = document.getElementById(\"2734\");\n  if (element == null) {\n    console.log(\"Bokeh: ERROR: autoload.js configured with elementid '2734' but no matching script tag was found. \")\n    return false;\n  }\n\n  var js_urls = [\"https://cdn.pydata.org/bokeh/release/bokeh-1.0.4.min.js\", \"https://cdn.pydata.org/bokeh/release/bokeh-widgets-1.0.4.min.js\", \"https://cdn.pydata.org/bokeh/release/bokeh-tables-1.0.4.min.js\", \"https://cdn.pydata.org/bokeh/release/bokeh-gl-1.0.4.min.js\"];\n\n  var inline_js = [\n    function(Bokeh) {\n      Bokeh.set_log_level(\"info\");\n    },\n    \n    function(Bokeh) {\n      \n    },\n    function(Bokeh) {\n      console.log(\"Bokeh: injecting CSS: https://cdn.pydata.org/bokeh/release/bokeh-1.0.4.min.css\");\n      Bokeh.embed.inject_css(\"https://cdn.pydata.org/bokeh/release/bokeh-1.0.4.min.css\");\n      console.log(\"Bokeh: injecting CSS: https://cdn.pydata.org/bokeh/release/bokeh-widgets-1.0.4.min.css\");\n      Bokeh.embed.inject_css(\"https://cdn.pydata.org/bokeh/release/bokeh-widgets-1.0.4.min.css\");\n      console.log(\"Bokeh: injecting CSS: https://cdn.pydata.org/bokeh/release/bokeh-tables-1.0.4.min.css\");\n      Bokeh.embed.inject_css(\"https://cdn.pydata.org/bokeh/release/bokeh-tables-1.0.4.min.css\");\n    }\n  ];\n\n  function run_inline_js() {\n    \n    if ((root.Bokeh !== undefined) || (force === true)) {\n      for (var i = 0; i < inline_js.length; i++) {\n        inline_js[i].call(root, root.Bokeh);\n      }if (force === true) {\n        display_loaded();\n      }} else if (Date.now() < root._bokeh_timeout) {\n      setTimeout(run_inline_js, 100);\n    } else if (!root._bokeh_failed_load) {\n      console.log(\"Bokeh: BokehJS failed to load within specified timeout.\");\n      root._bokeh_failed_load = true;\n    } else if (force !== true) {\n      var cell = $(document.getElementById(\"2734\")).parents('.cell').data().cell;\n      cell.output_area.append_execute_result(NB_LOAD_WARNING)\n    }\n\n  }\n\n  if (root._bokeh_is_loading === 0) {\n    console.log(\"Bokeh: BokehJS loaded, going straight to plotting\");\n    run_inline_js();\n  } else {\n    load_libs(js_urls, function() {\n      console.log(\"Bokeh: BokehJS plotting callback run at\", now());\n      run_inline_js();\n    });\n  }\n}(window));"
          },
          "metadata": {
            "tags": []
          }
        },
        {
          "output_type": "display_data",
          "data": {
            "text/html": [
              "\n",
              "\n",
              "\n",
              "\n",
              "\n",
              "\n",
              "  <div class=\"bk-root\" id=\"5461b60a-aa01-4a45-a805-f7fa104ead1a\" data-root-id=\"2736\"></div>\n"
            ]
          },
          "metadata": {
            "tags": []
          }
        },
        {
          "output_type": "display_data",
          "data": {
            "application/javascript": [
              "(function(root) {\n",
              "  function embed_document(root) {\n",
              "    \n",
              "  var docs_json = {\"26384aae-d83b-4979-8165-51be4c88f077\":{\"roots\":{\"references\":[{\"attributes\":{\"below\":[{\"id\":\"2746\",\"type\":\"LinearAxis\"}],\"left\":[{\"id\":\"2751\",\"type\":\"LinearAxis\"}],\"renderers\":[{\"id\":\"2746\",\"type\":\"LinearAxis\"},{\"id\":\"2750\",\"type\":\"Grid\"},{\"id\":\"2751\",\"type\":\"LinearAxis\"},{\"id\":\"2755\",\"type\":\"Grid\"},{\"id\":\"2764\",\"type\":\"BoxAnnotation\"},{\"id\":\"2774\",\"type\":\"GlyphRenderer\"}],\"title\":{\"id\":\"2735\",\"type\":\"Title\"},\"toolbar\":{\"id\":\"2762\",\"type\":\"Toolbar\"},\"x_range\":{\"id\":\"2738\",\"type\":\"DataRange1d\"},\"x_scale\":{\"id\":\"2742\",\"type\":\"LinearScale\"},\"y_range\":{\"id\":\"2740\",\"type\":\"DataRange1d\"},\"y_scale\":{\"id\":\"2744\",\"type\":\"LinearScale\"}},\"id\":\"2736\",\"subtype\":\"Figure\",\"type\":\"Plot\"},{\"attributes\":{\"plot\":{\"id\":\"2736\",\"subtype\":\"Figure\",\"type\":\"Plot\"},\"ticker\":{\"id\":\"2747\",\"type\":\"BasicTicker\"}},\"id\":\"2750\",\"type\":\"Grid\"},{\"attributes\":{},\"id\":\"2744\",\"type\":\"LinearScale\"},{\"attributes\":{},\"id\":\"2870\",\"type\":\"UnionRenderers\"},{\"attributes\":{\"formatter\":{\"id\":\"2867\",\"type\":\"BasicTickFormatter\"},\"plot\":{\"id\":\"2736\",\"subtype\":\"Figure\",\"type\":\"Plot\"},\"ticker\":{\"id\":\"2752\",\"type\":\"BasicTicker\"}},\"id\":\"2751\",\"type\":\"LinearAxis\"},{\"attributes\":{},\"id\":\"2871\",\"type\":\"Selection\"},{\"attributes\":{\"plot\":null,\"text\":\"Iris\"},\"id\":\"2735\",\"type\":\"Title\"},{\"attributes\":{},\"id\":\"2752\",\"type\":\"BasicTicker\"},{\"attributes\":{\"dimension\":1,\"plot\":{\"id\":\"2736\",\"subtype\":\"Figure\",\"type\":\"Plot\"},\"ticker\":{\"id\":\"2752\",\"type\":\"BasicTicker\"}},\"id\":\"2755\",\"type\":\"Grid\"},{\"attributes\":{\"source\":{\"id\":\"2771\",\"type\":\"ColumnDataSource\"}},\"id\":\"2775\",\"type\":\"CDSView\"},{\"attributes\":{},\"id\":\"2867\",\"type\":\"BasicTickFormatter\"},{\"attributes\":{\"callback\":null,\"data\":{\"fill_color\":[\"#e41a1c\",\"#e41a1c\",\"#e41a1c\",\"#e41a1c\",\"#e41a1c\",\"#e41a1c\",\"#e41a1c\",\"#e41a1c\",\"#e41a1c\",\"#e41a1c\",\"#e41a1c\",\"#e41a1c\",\"#e41a1c\",\"#e41a1c\",\"#e41a1c\",\"#e41a1c\",\"#e41a1c\",\"#e41a1c\",\"#e41a1c\",\"#e41a1c\",\"#e41a1c\",\"#e41a1c\",\"#e41a1c\",\"#e41a1c\",\"#e41a1c\",\"#e41a1c\",\"#e41a1c\",\"#e41a1c\",\"#e41a1c\",\"#e41a1c\",\"#e41a1c\",\"#e41a1c\",\"#e41a1c\",\"#e41a1c\",\"#e41a1c\",\"#e41a1c\",\"#e41a1c\",\"#e41a1c\",\"#e41a1c\",\"#e41a1c\",\"#e41a1c\",\"#e41a1c\",\"#e41a1c\",\"#e41a1c\",\"#e41a1c\",\"#e41a1c\",\"#e41a1c\",\"#e41a1c\",\"#e41a1c\",\"#e41a1c\",\"#377eb8\",\"#377eb8\",\"#377eb8\",\"#377eb8\",\"#377eb8\",\"#377eb8\",\"#377eb8\",\"#377eb8\",\"#377eb8\",\"#377eb8\",\"#377eb8\",\"#377eb8\",\"#377eb8\",\"#377eb8\",\"#377eb8\",\"#377eb8\",\"#377eb8\",\"#377eb8\",\"#377eb8\",\"#377eb8\",\"#377eb8\",\"#377eb8\",\"#377eb8\",\"#377eb8\",\"#377eb8\",\"#377eb8\",\"#377eb8\",\"#377eb8\",\"#377eb8\",\"#377eb8\",\"#377eb8\",\"#377eb8\",\"#377eb8\",\"#377eb8\",\"#377eb8\",\"#377eb8\",\"#377eb8\",\"#377eb8\",\"#377eb8\",\"#377eb8\",\"#377eb8\",\"#377eb8\",\"#377eb8\",\"#377eb8\",\"#377eb8\",\"#377eb8\",\"#377eb8\",\"#377eb8\",\"#377eb8\",\"#377eb8\",\"#4daf4a\",\"#4daf4a\",\"#4daf4a\",\"#4daf4a\",\"#4daf4a\",\"#4daf4a\",\"#4daf4a\",\"#4daf4a\",\"#4daf4a\",\"#4daf4a\",\"#4daf4a\",\"#4daf4a\",\"#4daf4a\",\"#4daf4a\",\"#4daf4a\",\"#4daf4a\",\"#4daf4a\",\"#4daf4a\",\"#4daf4a\",\"#4daf4a\",\"#4daf4a\",\"#4daf4a\",\"#4daf4a\",\"#4daf4a\",\"#4daf4a\",\"#4daf4a\",\"#4daf4a\",\"#4daf4a\",\"#4daf4a\",\"#4daf4a\",\"#4daf4a\",\"#4daf4a\",\"#4daf4a\",\"#4daf4a\",\"#4daf4a\",\"#4daf4a\",\"#4daf4a\",\"#4daf4a\",\"#4daf4a\",\"#4daf4a\",\"#4daf4a\",\"#4daf4a\",\"#4daf4a\",\"#4daf4a\",\"#4daf4a\",\"#4daf4a\",\"#4daf4a\",\"#4daf4a\",\"#4daf4a\",\"#4daf4a\"],\"line_color\":[\"#e41a1c\",\"#e41a1c\",\"#e41a1c\",\"#e41a1c\",\"#e41a1c\",\"#e41a1c\",\"#e41a1c\",\"#e41a1c\",\"#e41a1c\",\"#e41a1c\",\"#e41a1c\",\"#e41a1c\",\"#e41a1c\",\"#e41a1c\",\"#e41a1c\",\"#e41a1c\",\"#e41a1c\",\"#e41a1c\",\"#e41a1c\",\"#e41a1c\",\"#e41a1c\",\"#e41a1c\",\"#e41a1c\",\"#e41a1c\",\"#e41a1c\",\"#e41a1c\",\"#e41a1c\",\"#e41a1c\",\"#e41a1c\",\"#e41a1c\",\"#e41a1c\",\"#e41a1c\",\"#e41a1c\",\"#e41a1c\",\"#e41a1c\",\"#e41a1c\",\"#e41a1c\",\"#e41a1c\",\"#e41a1c\",\"#e41a1c\",\"#e41a1c\",\"#e41a1c\",\"#e41a1c\",\"#e41a1c\",\"#e41a1c\",\"#e41a1c\",\"#e41a1c\",\"#e41a1c\",\"#e41a1c\",\"#e41a1c\",\"#377eb8\",\"#377eb8\",\"#377eb8\",\"#377eb8\",\"#377eb8\",\"#377eb8\",\"#377eb8\",\"#377eb8\",\"#377eb8\",\"#377eb8\",\"#377eb8\",\"#377eb8\",\"#377eb8\",\"#377eb8\",\"#377eb8\",\"#377eb8\",\"#377eb8\",\"#377eb8\",\"#377eb8\",\"#377eb8\",\"#377eb8\",\"#377eb8\",\"#377eb8\",\"#377eb8\",\"#377eb8\",\"#377eb8\",\"#377eb8\",\"#377eb8\",\"#377eb8\",\"#377eb8\",\"#377eb8\",\"#377eb8\",\"#377eb8\",\"#377eb8\",\"#377eb8\",\"#377eb8\",\"#377eb8\",\"#377eb8\",\"#377eb8\",\"#377eb8\",\"#377eb8\",\"#377eb8\",\"#377eb8\",\"#377eb8\",\"#377eb8\",\"#377eb8\",\"#377eb8\",\"#377eb8\",\"#377eb8\",\"#377eb8\",\"#4daf4a\",\"#4daf4a\",\"#4daf4a\",\"#4daf4a\",\"#4daf4a\",\"#4daf4a\",\"#4daf4a\",\"#4daf4a\",\"#4daf4a\",\"#4daf4a\",\"#4daf4a\",\"#4daf4a\",\"#4daf4a\",\"#4daf4a\",\"#4daf4a\",\"#4daf4a\",\"#4daf4a\",\"#4daf4a\",\"#4daf4a\",\"#4daf4a\",\"#4daf4a\",\"#4daf4a\",\"#4daf4a\",\"#4daf4a\",\"#4daf4a\",\"#4daf4a\",\"#4daf4a\",\"#4daf4a\",\"#4daf4a\",\"#4daf4a\",\"#4daf4a\",\"#4daf4a\",\"#4daf4a\",\"#4daf4a\",\"#4daf4a\",\"#4daf4a\",\"#4daf4a\",\"#4daf4a\",\"#4daf4a\",\"#4daf4a\",\"#4daf4a\",\"#4daf4a\",\"#4daf4a\",\"#4daf4a\",\"#4daf4a\",\"#4daf4a\",\"#4daf4a\",\"#4daf4a\",\"#4daf4a\",\"#4daf4a\"],\"x\":{\"__ndarray__\":\"3BfQlUF5BcB8HBC3HrkFwIMB8LRZHgfA4au3ELT4BcArfKiOKNQFwPku3tM6PQLAoHRMIi+RBsCg3sb9CAMFwJ+OMgWKGgfABFbgrghkBcBfEdbqXQ0EwLQJll635wTAmFU1L6pMBsCBXT7kNc0JwFOZcvz5JQXAaT99FCoSA8CWoJoE7/oEwH4CKtTDLwXAi5itL7aXAcDNpwaP4rIEwNoWbAv4ewLA3lEHi4tYBMC/fGGZE7oJwGkBnqfObALAf7QIOnDZAsDxvzLoNhAEwH6XS26gwAPAttch08Z/BMCLs/ecWh4FwE6sYpASEAXA/keKlyu1BMDtJH6g1kcDwH9w3yJcLgXA40xEjPvGBMAEVuCuCGQFwLGyoZ2d7wbATKUCyHcABcAEVuCuCGQFwJjrulPQ2gfA4rpHR/u4BMCiQtiWPikGwH/uJAtU0QbAvWxt2IL8B8BVrVgtfj4DwNMgpJywqwHA3Srpq665BcDDoH1E80wEwNoIQF/6uAbAHTVVoWtXBMB1upzHnKEFwDj1DcWEjvQ/4gJQE0/W7T85y8qQy2z3Pwy3dPTuKcc/SobOIedk8T9VeMs1dX7kPynV/0sJhvE/+Ekj0QQM6L8r94EDWbHwP5QaKSSI3oS/p84ZcNFa4L/M5/VR6lrgP/j0T+kbytA/l+pp/Ep97z+iXdiQ8WHGvwDrVXOtru0/uI81VmIb5T/3CskJbQXOP8b7SL3TJ+4/+LkpZmQkpj+ixq87H9zxP0f4HlSX1dY/LCUEH1a+9D/0QZ74wXTtP5V71cAn2eY/T16+otvJ7D+eozkW8kv1P6lLd1oY6/g/3s2Mx6L/6T8t5x9lX6vTv1gVi9f9AbK/66YYyauPyL/NKai4g0fBP8borIJOD/Y/zHE8ovTK4j/sFyyfoNTpP6XKEYbghvM/7mvzTwMD6j9jeUwYjmLPP8qkTKnGDsU/zi+Pukyi3T+vdkjCMXzsP2H5LaHoS80/urjB7Wig5r+jLf2lDcHWP/eSZxQvMdU/dEJiNOcD2D+mXdwMuojkP7ItLLIhEu2/xGOz5UgP0z8ZHDsT+kAEQP/ZlDIKoPY/4Yl4e4/uBEBsLrJAdYj/P2Ss9OlNzAJAZgM+Yc8sC0BOXXecyZ7gP3FDmha/dAdAROEYnLCOAkB2uNbCVlgHQGdzWBlJl/o/gvhG8WLW/D8LrT4nslIBQLuG6Tl1g/U/gi5fPkFd+T+6Hftm1Hn+P3MDnn0fMP8/WlTI0v3oC0BeqfvIhFsOQPIKf371xfQ/L7O19OJsA0AFg3UmaCvzP1Kv+OZ+/gtAFaODn+Mz9j9mABLC8jQCQMkIgnTe6QRApaF0lTsf9D+xkG83lab0P5+7I96a+wBAYyaKXbsZA0BRhLq4SboGQOUb7ZfW2wlA/dDJnxhFAUBZE6nB8hb3P/V3nOdnefw/3MMdXrecCECNVH/e7igBQNQ67YtRev4/ZhATsp+z8j/RczWPedwAQDqlh3+xgwJAq5Lo21vC/j//2ZQyCqD2Pz/IlFavgQRA3FWqyOlaA0CovfyesRr/P+UIk0Qeafg/f64bO4g5/D9KxfebEm3+P1RzL44SPPY/\",\"dtype\":\"float64\",\"shape\":[150]},\"y\":{\"__ndarray__\":\"/AjjXSLn1L+FcojtCbTFPwRbwHqKlME/o0pJ9nXp0z+54vYhBV/Vv3YdOgPW7ee/lX+0Hc0EtT9qiGys18/Fv6Pl9jj6Q+I/Yl5fwiVQuz+K6VrRptzkvwGS1SmBCZa/ndeXK5cmzT/mKP933hrgP7OauoCn+vK/zp2wIR2E9b8UzrJlyi3qvx9yvDO8bNS/asVxf8Qi7L+OQSNVuKfgvyS5dpiqdtm/K8nd8nop3L/OPF6EdSDCvxHV18SIA7u/q/x6EWj1nz8EQR0gmczBP1l8WaFKpsG/F/rU9dT6179LL8+ZP2/Uv9xsKqJnVMg/WCBSKi1EyT8JPKKm0sHav8UxxDdMPeq/EMnal7CZ8b9iXl/CJVC7P7obnD3twrO/bEPs2edq479iXl/CJVC7P95Pb7NqvN4/JhvJPjE3zr8QgcqbCVnRv4pJm3gI2u0/pgnrmEtl1T8dZ0MT0RPJvweLLrshVdy/DzMy1C8Qzz/WYJhR7lTgv3KelW/YO8w/1sTDbNDC4r+i5cHoWXG9v8XO+ige7+W/Af8x071t1L/L9HK3UiLgvxF1I/ZYa+o/lY5t2MhMs79kYc2NbbXaPzWRpgpGK9K/JRTAT4kE8D+w+7HBdU7NvzW82QXzDuc/D9FUwyoz9D/TtBKGSi+6P9zsloZXiOE//oDFoRXWvz/vbJoOvx3QPzan3fyU992/TpLEkMeG1j9KFXwONT7VP2T536GbVuE/RGqFwY+b4j+o9XizDI+1P2EJmstdG7E/WqG8l8T21D9Cq8xCkVjHPw3oYsSfP8O/sjptplgY1b8TTKiyVFHPv66tvcn1HNG/uR+b8kfHxD/tb4I9lF3XP1l0H9Qwe+Y/xPxtpgCu5T9nklAADfPTP8B+YmUG9do/CyUhIyHu3j+REa09h/fIv24HAj9AHdq/TgDGZzS51z9aA4Z3EhLRP/ZR4WjJv+U/mKWl78Js5T+gJpdP3U+hP9ANz76Wvtk/lArFAIIi8D97YkSoXRrgP8v22mrzB8s/XTXWbO+p0j8JFE79ZIeTv1mU6drZDOg/KQDcyIQ11j/8EKcYvkCIPw5rGTvJZeI/+ly9ikTi1b9Xh5xzIC/HP9bOFCqhcaU/4TD/j2aC4b9MHOjJxg/zPwQwWklYjda/RrYsWR9uzz97tjLM4Pjov3WIakQd+86/zJwrQ/Sqyz8ixEfoTY7LvyDSZyll2Og/q9LY3QBC4T+kFmrg62q+vxVUZriY2qS/M7X2faW+8r8c6CHMgDXQv4sfJeY5Wug/WpMQITId2L8Iln0h52DjP3+jksfGO92/cz9Y968dyj9hUUNwNFbVv3Gs010k3uG/ZNu3DPbtxj/RJAmZC869P+rDq/hK/co/AfHoV+qZ3b8QcJi9A9vXv41njpyq7fW/o/H4TBfyyz9R0d2kFGjCPyZyq+X/C+A/fpuGRcjx5b9UxSkXscfBv/0hBdmumai/hXRo/GoOxT/iptB7XcbXv9c9DxG6X8e/F4I4u38x2r8Oaxk7yWXiP1WZafWQqdG/7/Wox5ts07/K57rUOP3HvxpVk3FXANg/0ZbSWdUZtL8Qgxc8Gaq9v4uMF9vQGtI/\",\"dtype\":\"float64\",\"shape\":[150]}},\"selected\":{\"id\":\"2871\",\"type\":\"Selection\"},\"selection_policy\":{\"id\":\"2870\",\"type\":\"UnionRenderers\"}},\"id\":\"2771\",\"type\":\"ColumnDataSource\"},{\"attributes\":{\"fill_alpha\":{\"value\":0.2},\"fill_color\":{\"field\":\"fill_color\"},\"line_color\":{\"field\":\"line_color\"},\"size\":{\"units\":\"screen\",\"value\":10},\"x\":{\"field\":\"x\"},\"y\":{\"field\":\"y\"}},\"id\":\"2772\",\"type\":\"Circle\"},{\"attributes\":{\"active_drag\":\"auto\",\"active_inspect\":\"auto\",\"active_multi\":null,\"active_scroll\":\"auto\",\"active_tap\":\"auto\",\"tools\":[{\"id\":\"2756\",\"type\":\"PanTool\"},{\"id\":\"2757\",\"type\":\"WheelZoomTool\"},{\"id\":\"2758\",\"type\":\"BoxZoomTool\"},{\"id\":\"2759\",\"type\":\"SaveTool\"},{\"id\":\"2760\",\"type\":\"ResetTool\"},{\"id\":\"2761\",\"type\":\"HelpTool\"}]},\"id\":\"2762\",\"type\":\"Toolbar\"},{\"attributes\":{},\"id\":\"2747\",\"type\":\"BasicTicker\"},{\"attributes\":{},\"id\":\"2756\",\"type\":\"PanTool\"},{\"attributes\":{\"callback\":null},\"id\":\"2740\",\"type\":\"DataRange1d\"},{\"attributes\":{},\"id\":\"2757\",\"type\":\"WheelZoomTool\"},{\"attributes\":{\"overlay\":{\"id\":\"2764\",\"type\":\"BoxAnnotation\"}},\"id\":\"2758\",\"type\":\"BoxZoomTool\"},{\"attributes\":{},\"id\":\"2759\",\"type\":\"SaveTool\"},{\"attributes\":{},\"id\":\"2760\",\"type\":\"ResetTool\"},{\"attributes\":{},\"id\":\"2742\",\"type\":\"LinearScale\"},{\"attributes\":{},\"id\":\"2761\",\"type\":\"HelpTool\"},{\"attributes\":{\"callback\":null},\"id\":\"2738\",\"type\":\"DataRange1d\"},{\"attributes\":{\"formatter\":{\"id\":\"2865\",\"type\":\"BasicTickFormatter\"},\"plot\":{\"id\":\"2736\",\"subtype\":\"Figure\",\"type\":\"Plot\"},\"ticker\":{\"id\":\"2747\",\"type\":\"BasicTicker\"}},\"id\":\"2746\",\"type\":\"LinearAxis\"},{\"attributes\":{\"bottom_units\":\"screen\",\"fill_alpha\":{\"value\":0.5},\"fill_color\":{\"value\":\"lightgrey\"},\"left_units\":\"screen\",\"level\":\"overlay\",\"line_alpha\":{\"value\":1.0},\"line_color\":{\"value\":\"black\"},\"line_dash\":[4,4],\"line_width\":{\"value\":2},\"plot\":null,\"render_mode\":\"css\",\"right_units\":\"screen\",\"top_units\":\"screen\"},\"id\":\"2764\",\"type\":\"BoxAnnotation\"},{\"attributes\":{\"fill_alpha\":{\"value\":0.1},\"fill_color\":{\"value\":\"#1f77b4\"},\"line_alpha\":{\"value\":0.1},\"line_color\":{\"value\":\"#1f77b4\"},\"size\":{\"units\":\"screen\",\"value\":10},\"x\":{\"field\":\"x\"},\"y\":{\"field\":\"y\"}},\"id\":\"2773\",\"type\":\"Circle\"},{\"attributes\":{\"data_source\":{\"id\":\"2771\",\"type\":\"ColumnDataSource\"},\"glyph\":{\"id\":\"2772\",\"type\":\"Circle\"},\"hover_glyph\":null,\"muted_glyph\":null,\"nonselection_glyph\":{\"id\":\"2773\",\"type\":\"Circle\"},\"selection_glyph\":null,\"view\":{\"id\":\"2775\",\"type\":\"CDSView\"}},\"id\":\"2774\",\"type\":\"GlyphRenderer\"},{\"attributes\":{},\"id\":\"2865\",\"type\":\"BasicTickFormatter\"}],\"root_ids\":[\"2736\"]},\"title\":\"Bokeh Application\",\"version\":\"1.0.4\"}};\n",
              "  var render_items = [{\"docid\":\"26384aae-d83b-4979-8165-51be4c88f077\",\"roots\":{\"2736\":\"5461b60a-aa01-4a45-a805-f7fa104ead1a\"}}];\n",
              "  root.Bokeh.embed.embed_items_notebook(docs_json, render_items);\n",
              "\n",
              "  }\n",
              "  if (root.Bokeh !== undefined) {\n",
              "    embed_document(root);\n",
              "  } else {\n",
              "    var attempts = 0;\n",
              "    var timer = setInterval(function(root) {\n",
              "      if (root.Bokeh !== undefined) {\n",
              "        embed_document(root);\n",
              "        clearInterval(timer);\n",
              "      }\n",
              "      attempts++;\n",
              "      if (attempts > 100) {\n",
              "        console.log(\"Bokeh: ERROR: Unable to run BokehJS code because BokehJS library is missing\");\n",
              "        clearInterval(timer);\n",
              "      }\n",
              "    }, 10, root)\n",
              "  }\n",
              "})(window);"
            ],
            "application/vnd.bokehjs_exec.v0+json": ""
          },
          "metadata": {
            "tags": [],
            "application/vnd.bokehjs_exec.v0+json": {
              "id": "2736"
            }
          }
        }
      ]
    }
  ]
}